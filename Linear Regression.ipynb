{
 "cells": [
  {
   "cell_type": "markdown",
   "metadata": {},
   "source": [
    "# Polynomial regression"
   ]
  },
  {
   "cell_type": "code",
   "execution_count": 1,
   "metadata": {},
   "outputs": [],
   "source": [
    "#Please run this first\n",
    "import sys\n",
    "import numpy as np\n",
    "\n",
    "from datascience import *\n",
    "from sklearn.linear_model  import LinearRegression\n",
    "from sklearn.preprocessing import PolynomialFeatures\n",
    "\n",
    "%matplotlib inline\n",
    "import matplotlib.pyplot as plots\n",
    "plots.style.use('fivethirtyeight')"
   ]
  },
  {
   "cell_type": "code",
   "execution_count": 2,
   "metadata": {},
   "outputs": [
    {
     "name": "stdout",
     "output_type": "stream",
     "text": [
      "[[16]\n",
      " [17]\n",
      " [23]\n",
      " [25]\n",
      " [28]\n",
      " [31]\n",
      " [40]\n",
      " [48]\n",
      " [54]\n",
      " [67]]\n",
      "[180 163 172 168 165 156 153 144 139 130]\n"
     ]
    }
   ],
   "source": [
    "# Got the datapoints from\n",
    "# https://johnstonmd.wordpress.com/teaching/math-178-spring-2017/\n",
    "x = np.array([16, 17, 23, 25, 28, 31, 40, 48, 54, 67]).reshape((-1, 1))\n",
    "y = np.array([180, 163, 172, 168, 165, 156, 153, 144, 139, 130])\n",
    "print(x)\n",
    "print(y)"
   ]
  },
  {
   "cell_type": "markdown",
   "metadata": {},
   "source": [
    "### Numpy calculate regression with a two dimensional array x.\n",
    "### For our table we map the two dimensional array to a one dimentional array."
   ]
  },
  {
   "cell_type": "code",
   "execution_count": 3,
   "metadata": {},
   "outputs": [
    {
     "data": {
      "text/plain": [
       "[16, 17, 23, 25, 28, 31, 40, 48, 54, 67]"
      ]
     },
     "execution_count": 3,
     "metadata": {},
     "output_type": "execute_result"
    }
   ],
   "source": [
    "x_one_dimensional = [_[0] for _ in x]\n",
    "x_one_dimensional"
   ]
  },
  {
   "cell_type": "code",
   "execution_count": 4,
   "metadata": {},
   "outputs": [
    {
     "data": {
      "text/html": [
       "<table border=\"1\" class=\"dataframe\">\n",
       "    <thead>\n",
       "        <tr>\n",
       "            <th>Age</th> <th>Heart rate</th>\n",
       "        </tr>\n",
       "    </thead>\n",
       "    <tbody>\n",
       "        <tr>\n",
       "            <td>16  </td> <td>180       </td>\n",
       "        </tr>\n",
       "        <tr>\n",
       "            <td>17  </td> <td>163       </td>\n",
       "        </tr>\n",
       "        <tr>\n",
       "            <td>23  </td> <td>172       </td>\n",
       "        </tr>\n",
       "        <tr>\n",
       "            <td>25  </td> <td>168       </td>\n",
       "        </tr>\n",
       "        <tr>\n",
       "            <td>28  </td> <td>165       </td>\n",
       "        </tr>\n",
       "        <tr>\n",
       "            <td>31  </td> <td>156       </td>\n",
       "        </tr>\n",
       "        <tr>\n",
       "            <td>40  </td> <td>153       </td>\n",
       "        </tr>\n",
       "        <tr>\n",
       "            <td>48  </td> <td>144       </td>\n",
       "        </tr>\n",
       "        <tr>\n",
       "            <td>54  </td> <td>139       </td>\n",
       "        </tr>\n",
       "        <tr>\n",
       "            <td>67  </td> <td>130       </td>\n",
       "        </tr>\n",
       "    </tbody>\n",
       "</table>"
      ],
      "text/plain": [
       "Age  | Heart rate\n",
       "16   | 180\n",
       "17   | 163\n",
       "23   | 172\n",
       "25   | 168\n",
       "28   | 165\n",
       "31   | 156\n",
       "40   | 153\n",
       "48   | 144\n",
       "54   | 139\n",
       "67   | 130"
      ]
     },
     "execution_count": 4,
     "metadata": {},
     "output_type": "execute_result"
    }
   ],
   "source": [
    "table = Table().with_columns(\n",
    "    'Age', x_one_dimensional,\n",
    "    'Heart rate', y\n",
    ")\n",
    "table"
   ]
  },
  {
   "cell_type": "code",
   "execution_count": 5,
   "metadata": {},
   "outputs": [
    {
     "data": {
      "image/png": "[encoded data removed]",
      "text/plain": [
       "<Figure size 360x360 with 1 Axes>"
      ]
     },
     "metadata": {},
     "output_type": "display_data"
    }
   ],
   "source": [
    "table.scatter('Age')"
   ]
  },
  {
   "cell_type": "code",
   "execution_count": 6,
   "metadata": {},
   "outputs": [
    {
     "data": {
      "text/plain": [
       "(0.9141779810921304, array([-0.88693692]), 187.95409848808737)"
      ]
     },
     "execution_count": 6,
     "metadata": {},
     "output_type": "execute_result"
    }
   ],
   "source": [
    "def polynomial_regression(x, y, degree_my = 1):\n",
    "  \"\"\"\n",
    "  Return R^2, coefficients and the interception\n",
    "  \n",
    "  polynomial_regression(x, y, degree_my = 1) -> (r_sq, coefficients, interception)\n",
    "\n",
    "  Parameters\n",
    "  ----------\n",
    "  x: np.array, regressors\n",
    "  y: np.array, predictors\n",
    "  degree: int, optional, default 1, the degree of the model function\n",
    "  \n",
    "  Examples\n",
    "  --------\n",
    "  >>> x = np.array([16, 17, 23, 25, 28, 31, 40, 48, 54, 67]).reshape((-1, 1))\n",
    "  >>> y = np.array([180, 163, 172, 168, 165, 156, 153, 144, 139, 130])\n",
    "\n",
    "  >>> x\n",
    "  array([[16],\n",
    "         [17],\n",
    "         [23],\n",
    "         [25],\n",
    "         [28],\n",
    "         [31],\n",
    "         [40],\n",
    "         [48],\n",
    "         [54],\n",
    "         [67]])\n",
    "  >>> y\n",
    "  array([180, 163, 172, 168, 165, 156, 153, 144, 139, 130])\n",
    "  >>> polynomial_regression(x, y)\n",
    "  (0.9141779810921304, array([-0.88693692]), 187.95409848808737)\n",
    "  >>> polynomial_regression(x, y, 2)\n",
    "  (0.9147602910606555, array([-1.01045344,  0.00153909]), 189.99421074646295)\n",
    "  >>> polynomial_regression(x, y, 5)\n",
    "  (0.9184131002053144, array([ 7.73620330e+00, -4.45581354e-01,  1.08361046e-02, -1.26584517e-04,\n",
    "          5.75609467e-07]), 126.4417938766303)\n",
    "  >>> \n",
    "  \"\"\"\n",
    "  transformer = PolynomialFeatures(degree = degree_my, include_bias = False)\n",
    "  transformer.fit(x)\n",
    "  x_ = transformer.transform(x)\n",
    "\n",
    "  model = LinearRegression().fit(x_, y)\n",
    "  \n",
    "  coefficient_of_determination = model.score(x_, y)\n",
    "  interception = model.intercept_\n",
    "  coefficients = model.coef_\n",
    "\n",
    "  return (coefficient_of_determination, coefficients, interception)\n",
    "\n",
    "def linear_regression(x, y):\n",
    "  \"\"\"\n",
    "  Returns R^2, slope and interception\n",
    "  \"\"\"\n",
    "  # Reusing the existing 'general' polynomial_regression function\n",
    "  return polynomial_regression(x, y, 1) \n",
    "\n",
    "linear_regression(x, y)"
   ]
  },
  {
   "cell_type": "code",
   "execution_count": 7,
   "metadata": {},
   "outputs": [
    {
     "name": "stdout",
     "output_type": "stream",
     "text": [
      "R^2:  0.9141779810921304\n",
      "coefficients:  [-0.88693692]\n",
      "intersection:  187.95409848808737\n"
     ]
    }
   ],
   "source": [
    "r_sq, coefficients, interception = linear_regression(x, y)\n",
    "print('R^2: ', r_sq)\n",
    "print('coefficients: ', coefficients)\n",
    "print('intersection: ', interception)"
   ]
  },
  {
   "cell_type": "code",
   "execution_count": 8,
   "metadata": {},
   "outputs": [
    {
     "name": "stdout",
     "output_type": "stream",
     "text": [
      "<function <lambda> at 0x1a18204598>\n",
      "your predicted HR is 160\n"
     ]
    }
   ],
   "source": [
    "prediction_function = lambda age: coefficients[0] * age + interception\n",
    "print(prediction_function)\n",
    "age = 31\n",
    "print('your predicted HR is %d' % prediction_function(age))"
   ]
  },
  {
   "cell_type": "code",
   "execution_count": 9,
   "metadata": {},
   "outputs": [
    {
     "data": {
      "text/plain": [
       "array([173.76310778, 172.87617086, 167.55454934, 165.7806755 ,\n",
       "       163.11986474, 160.45905399, 152.47662171, 145.38112636,\n",
       "       140.05950484, 128.52932489])"
      ]
     },
     "execution_count": 9,
     "metadata": {},
     "output_type": "execute_result"
    }
   ],
   "source": [
    "prediction_array = prediction_function(table.column('Age'))\n",
    "prediction_array"
   ]
  },
  {
   "cell_type": "code",
   "execution_count": null,
   "metadata": {},
   "outputs": [],
   "source": []
  },
  {
   "cell_type": "code",
   "execution_count": 10,
   "metadata": {},
   "outputs": [
    {
     "data": {
      "text/plain": [
       "array([173.76310778, 172.87617086, 167.55454934, 165.7806755 ,\n",
       "       163.11986474])"
      ]
     },
     "execution_count": 10,
     "metadata": {},
     "output_type": "execute_result"
    }
   ],
   "source": [
    "# Shows only the first five elements in the array\n",
    "prediction_array[:5]"
   ]
  },
  {
   "cell_type": "code",
   "execution_count": 11,
   "metadata": {},
   "outputs": [
    {
     "data": {
      "text/html": [
       "<table border=\"1\" class=\"dataframe\">\n",
       "    <thead>\n",
       "        <tr>\n",
       "            <th>Age</th> <th>Heart rate</th> <th>Linear Prediction</th>\n",
       "        </tr>\n",
       "    </thead>\n",
       "    <tbody>\n",
       "        <tr>\n",
       "            <td>16  </td> <td>180       </td> <td>173.763          </td>\n",
       "        </tr>\n",
       "        <tr>\n",
       "            <td>17  </td> <td>163       </td> <td>172.876          </td>\n",
       "        </tr>\n",
       "        <tr>\n",
       "            <td>23  </td> <td>172       </td> <td>167.555          </td>\n",
       "        </tr>\n",
       "        <tr>\n",
       "            <td>25  </td> <td>168       </td> <td>165.781          </td>\n",
       "        </tr>\n",
       "        <tr>\n",
       "            <td>28  </td> <td>165       </td> <td>163.12           </td>\n",
       "        </tr>\n",
       "        <tr>\n",
       "            <td>31  </td> <td>156       </td> <td>160.459          </td>\n",
       "        </tr>\n",
       "        <tr>\n",
       "            <td>40  </td> <td>153       </td> <td>152.477          </td>\n",
       "        </tr>\n",
       "        <tr>\n",
       "            <td>48  </td> <td>144       </td> <td>145.381          </td>\n",
       "        </tr>\n",
       "        <tr>\n",
       "            <td>54  </td> <td>139       </td> <td>140.06           </td>\n",
       "        </tr>\n",
       "        <tr>\n",
       "            <td>67  </td> <td>130       </td> <td>128.529          </td>\n",
       "        </tr>\n",
       "    </tbody>\n",
       "</table>"
      ],
      "text/plain": [
       "Age  | Heart rate | Linear Prediction\n",
       "16   | 180        | 173.763\n",
       "17   | 163        | 172.876\n",
       "23   | 172        | 167.555\n",
       "25   | 168        | 165.781\n",
       "28   | 165        | 163.12\n",
       "31   | 156        | 160.459\n",
       "40   | 153        | 152.477\n",
       "48   | 144        | 145.381\n",
       "54   | 139        | 140.06\n",
       "67   | 130        | 128.529"
      ]
     },
     "execution_count": 11,
     "metadata": {},
     "output_type": "execute_result"
    }
   ],
   "source": [
    "table = table.with_column(\n",
    "    'Linear Prediction', prediction_array\n",
    ")\n",
    "table"
   ]
  },
  {
   "cell_type": "code",
   "execution_count": 12,
   "metadata": {},
   "outputs": [
    {
     "data": {
      "image/png": "[encoded data removed]",
      "text/plain": [
       "<Figure size 360x360 with 1 Axes>"
      ]
     },
     "metadata": {},
     "output_type": "display_data"
    }
   ],
   "source": [
    "table.scatter(0)"
   ]
  },
  {
   "cell_type": "code",
   "execution_count": 13,
   "metadata": {},
   "outputs": [
    {
     "name": "stdout",
     "output_type": "stream",
     "text": [
      "slope:  -0.8869369194294376\n",
      "The linear regression model is y = -0.89*x + 187.95\n",
      "what is your age: 40\n",
      "your recomended HR is 152\n",
      "this is 91.42 percent accurate\n"
     ]
    }
   ],
   "source": [
    "slope = coefficients[0]\n",
    "print('slope: ', slope)\n",
    "\n",
    "print('The linear regression model is y = %.2f*x + %.2f' % (slope, interception))\n",
    "\n",
    "age = int(input('what is your age: '))\n",
    "print('your recomended HR is %d' % (prediction_function(age)))\n",
    "print('this is %.2f percent accurate' %( r_sq * 100) )"
   ]
  },
  {
   "cell_type": "code",
   "execution_count": 14,
   "metadata": {},
   "outputs": [
    {
     "name": "stdout",
     "output_type": "stream",
     "text": [
      "R^2:  0.9147602910606555\n",
      "coefficients:  [-1.01045344  0.00153909]\n",
      "intersection:  189.99421074646295\n"
     ]
    }
   ],
   "source": [
    "def quadratic_regression(x, y):\n",
    "  \"\"\"\n",
    "  Returning R^2, coefficients and the interceptions as a size three tupple.\n",
    "  \"\"\"\n",
    "  return polynomial_regression(x, y, 2)\n",
    "\n",
    "r_sq, coefficients, interception = quadratic_regression(x, y)\n",
    "print('R^2: ', r_sq)\n",
    "print('coefficients: ', coefficients)\n",
    "print('intersection: ', interception)"
   ]
  },
  {
   "cell_type": "code",
   "execution_count": 15,
   "metadata": {},
   "outputs": [
    {
     "data": {
      "text/plain": [
       "<function __main__.<lambda>(age)>"
      ]
     },
     "execution_count": 15,
     "metadata": {},
     "output_type": "execute_result"
    }
   ],
   "source": [
    "prediction_function = \\\n",
    "  lambda age: sum( [coefficients[i] * age**(i + 1) for i in range(len(coefficients))] ) + interception\n",
    "prediction_function"
   ]
  },
  {
   "cell_type": "code",
   "execution_count": 16,
   "metadata": {},
   "outputs": [
    {
     "data": {
      "text/plain": [
       "array([174.22096186, 173.26129828, 167.5679584 , 165.69480382,\n",
       "       162.90815825, 160.14921624, 152.03861155, 145.03850091,\n",
       "       139.91770119, 129.2027895 ])"
      ]
     },
     "execution_count": 16,
     "metadata": {},
     "output_type": "execute_result"
    }
   ],
   "source": [
    "quadratic_prediction_array = prediction_function(table.column('Age'))\n",
    "quadratic_prediction_array"
   ]
  },
  {
   "cell_type": "code",
   "execution_count": 17,
   "metadata": {},
   "outputs": [
    {
     "data": {
      "text/html": [
       "<table border=\"1\" class=\"dataframe\">\n",
       "    <thead>\n",
       "        <tr>\n",
       "            <th>Age</th> <th>Heart rate</th> <th>Linear Prediction</th> <th>Quadratic Prediction</th>\n",
       "        </tr>\n",
       "    </thead>\n",
       "    <tbody>\n",
       "        <tr>\n",
       "            <td>16  </td> <td>180       </td> <td>173.763          </td> <td>174.221             </td>\n",
       "        </tr>\n",
       "        <tr>\n",
       "            <td>17  </td> <td>163       </td> <td>172.876          </td> <td>173.261             </td>\n",
       "        </tr>\n",
       "        <tr>\n",
       "            <td>23  </td> <td>172       </td> <td>167.555          </td> <td>167.568             </td>\n",
       "        </tr>\n",
       "        <tr>\n",
       "            <td>25  </td> <td>168       </td> <td>165.781          </td> <td>165.695             </td>\n",
       "        </tr>\n",
       "        <tr>\n",
       "            <td>28  </td> <td>165       </td> <td>163.12           </td> <td>162.908             </td>\n",
       "        </tr>\n",
       "        <tr>\n",
       "            <td>31  </td> <td>156       </td> <td>160.459          </td> <td>160.149             </td>\n",
       "        </tr>\n",
       "        <tr>\n",
       "            <td>40  </td> <td>153       </td> <td>152.477          </td> <td>152.039             </td>\n",
       "        </tr>\n",
       "        <tr>\n",
       "            <td>48  </td> <td>144       </td> <td>145.381          </td> <td>145.039             </td>\n",
       "        </tr>\n",
       "        <tr>\n",
       "            <td>54  </td> <td>139       </td> <td>140.06           </td> <td>139.918             </td>\n",
       "        </tr>\n",
       "        <tr>\n",
       "            <td>67  </td> <td>130       </td> <td>128.529          </td> <td>129.203             </td>\n",
       "        </tr>\n",
       "    </tbody>\n",
       "</table>"
      ],
      "text/plain": [
       "Age  | Heart rate | Linear Prediction | Quadratic Prediction\n",
       "16   | 180        | 173.763           | 174.221\n",
       "17   | 163        | 172.876           | 173.261\n",
       "23   | 172        | 167.555           | 167.568\n",
       "25   | 168        | 165.781           | 165.695\n",
       "28   | 165        | 163.12            | 162.908\n",
       "31   | 156        | 160.459           | 160.149\n",
       "40   | 153        | 152.477           | 152.039\n",
       "48   | 144        | 145.381           | 145.039\n",
       "54   | 139        | 140.06            | 139.918\n",
       "67   | 130        | 128.529           | 129.203"
      ]
     },
     "execution_count": 17,
     "metadata": {},
     "output_type": "execute_result"
    }
   ],
   "source": [
    "table = table.with_column(\n",
    "    'Quadratic Prediction', quadratic_prediction_array\n",
    ")\n",
    "table"
   ]
  },
  {
   "cell_type": "code",
   "execution_count": 18,
   "metadata": {},
   "outputs": [
    {
     "data": {
      "image/png": "[encoded data removed]",
      "text/plain": [
       "<Figure size 360x360 with 1 Axes>"
      ]
     },
     "metadata": {},
     "output_type": "display_data"
    }
   ],
   "source": [
    "table.scatter(0)"
   ]
  },
  {
   "cell_type": "code",
   "execution_count": 19,
   "metadata": {},
   "outputs": [],
   "source": [
    "def cubic_regression(x, y):\n",
    "  \"\"\"\n",
    "  Returning R^2, coefficients and the interceptions as a size three tupple.\n",
    "  \"\"\"\n",
    "  return polynomial_regression(x, y, 3)"
   ]
  },
  {
   "cell_type": "code",
   "execution_count": 20,
   "metadata": {},
   "outputs": [
    {
     "name": "stdout",
     "output_type": "stream",
     "text": [
      "R^2:  0.9176935349348047\n",
      "coefficients:  [ 0.06396439 -0.02754737  0.00023652]\n",
      "intersection:  178.3463040785259\n"
     ]
    }
   ],
   "source": [
    "r_sq, coefficients, interception = cubic_regression(x, y)\n",
    "print('R^2: ', r_sq)\n",
    "print('coefficients: ', coefficients)\n",
    "print('intersection: ', interception)"
   ]
  },
  {
   "cell_type": "code",
   "execution_count": 21,
   "metadata": {},
   "outputs": [
    {
     "data": {
      "text/plain": [
       "<function __main__.<lambda>(age)>"
      ]
     },
     "execution_count": 21,
     "metadata": {},
     "output_type": "execute_result"
    }
   ],
   "source": [
    "prediction_function = \\\n",
    "  lambda age: sum( [coefficients[i] * age**(i + 1) for i in range(len(coefficients))] ) + interception\n",
    "prediction_function"
   ]
  },
  {
   "cell_type": "code",
   "execution_count": 22,
   "metadata": {},
   "outputs": [
    {
     "data": {
      "text/html": [
       "<table border=\"1\" class=\"dataframe\">\n",
       "    <thead>\n",
       "        <tr>\n",
       "            <th>Age</th> <th>Heart rate</th> <th>Linear Prediction</th> <th>Quadratic Prediction</th> <th>Cubic prediction</th>\n",
       "        </tr>\n",
       "    </thead>\n",
       "    <tbody>\n",
       "        <tr>\n",
       "            <td>16  </td> <td>180       </td> <td>173.763          </td> <td>174.221             </td> <td>173.286         </td>\n",
       "        </tr>\n",
       "        <tr>\n",
       "            <td>17  </td> <td>163       </td> <td>172.876          </td> <td>173.261             </td> <td>172.635         </td>\n",
       "        </tr>\n",
       "        <tr>\n",
       "            <td>23  </td> <td>172       </td> <td>167.555          </td> <td>167.568             </td> <td>168.123         </td>\n",
       "        </tr>\n",
       "        <tr>\n",
       "            <td>25  </td> <td>168       </td> <td>165.781          </td> <td>165.695             </td> <td>166.424         </td>\n",
       "        </tr>\n",
       "        <tr>\n",
       "            <td>28  </td> <td>165       </td> <td>163.12           </td> <td>162.908             </td> <td>163.732         </td>\n",
       "        </tr>\n",
       "        <tr>\n",
       "            <td>31  </td> <td>156       </td> <td>160.459          </td> <td>160.149             </td> <td>160.902         </td>\n",
       "        </tr>\n",
       "        <tr>\n",
       "            <td>40  </td> <td>153       </td> <td>152.477          </td> <td>152.039             </td> <td>151.967         </td>\n",
       "        </tr>\n",
       "        <tr>\n",
       "            <td>48  </td> <td>144       </td> <td>145.381          </td> <td>145.039             </td> <td>144.105         </td>\n",
       "        </tr>\n",
       "        <tr>\n",
       "            <td>54  </td> <td>139       </td> <td>140.06           </td> <td>139.918             </td> <td>138.716         </td>\n",
       "        </tr>\n",
       "        <tr>\n",
       "            <td>67  </td> <td>130       </td> <td>128.529          </td> <td>129.203             </td> <td>130.109         </td>\n",
       "        </tr>\n",
       "    </tbody>\n",
       "</table>"
      ],
      "text/plain": [
       "Age  | Heart rate | Linear Prediction | Quadratic Prediction | Cubic prediction\n",
       "16   | 180        | 173.763           | 174.221              | 173.286\n",
       "17   | 163        | 172.876           | 173.261              | 172.635\n",
       "23   | 172        | 167.555           | 167.568              | 168.123\n",
       "25   | 168        | 165.781           | 165.695              | 166.424\n",
       "28   | 165        | 163.12            | 162.908              | 163.732\n",
       "31   | 156        | 160.459           | 160.149              | 160.902\n",
       "40   | 153        | 152.477           | 152.039              | 151.967\n",
       "48   | 144        | 145.381           | 145.039              | 144.105\n",
       "54   | 139        | 140.06            | 139.918              | 138.716\n",
       "67   | 130        | 128.529           | 129.203              | 130.109"
      ]
     },
     "execution_count": 22,
     "metadata": {},
     "output_type": "execute_result"
    }
   ],
   "source": [
    "table = table.with_column(\n",
    "    'Cubic prediction', prediction_function(table.column(0))\n",
    ")\n",
    "table"
   ]
  },
  {
   "cell_type": "code",
   "execution_count": 23,
   "metadata": {},
   "outputs": [
    {
     "data": {
      "image/png": "[encoded data removed]",
      "text/plain": [
       "<Figure size 360x360 with 1 Axes>"
      ]
     },
     "metadata": {},
     "output_type": "display_data"
    }
   ],
   "source": [
    "table.scatter(0)"
   ]
  },
  {
   "cell_type": "code",
   "execution_count": 24,
   "metadata": {},
   "outputs": [],
   "source": [
    "def top_polynomial_regressions(x, y, max_degree, top = 10):\n",
    "  \"\"\"\n",
    "  Print out the best polynomial regressions with the highest Q^2 in a sorted list \n",
    "  \n",
    "  Parameters\n",
    "  ----------\n",
    "  x: np.array, regressors\n",
    "  y: np.array, predictors\n",
    "  max_degree: int, the degree of the model function\n",
    "  top: int, number of rows printed from the sorted regressions\n",
    "  \n",
    "\n",
    "  Examples\n",
    "  --------\n",
    "  >>> x = np.array([16, 17, 23, 25, 28, 31, 40, 48, 54, 67]).reshape((-1, 1))\n",
    "  >>> y = np.array([180, 163, 172, 168, 165, 156, 153, 144, 139, 130])\n",
    "  >>> x\n",
    "  array([[16],\n",
    "         [17],\n",
    "         [23],\n",
    "         [25],\n",
    "         [28],\n",
    "         [31],\n",
    "         [40],\n",
    "         [48],\n",
    "         [54],\n",
    "         [67]])\n",
    "  >>> y\n",
    "  array([180, 163, 172, 168, 165, 156, 153, 144, 139, 130])\n",
    "  >>> top_polynomial_regressions(x, y, 20)\n",
    "  the top 10 polynomial regressions are\n",
    "  0.9920 Q^2 with degree 7\n",
    "  0.9838 Q^2 with degree 8\n",
    "  0.9741 Q^2 with degree 9\n",
    "  0.9333 Q^2 with degree 18\n",
    "  0.9332 Q^2 with degree 17\n",
    "  0.9330 Q^2 with degree 19\n",
    "  0.9330 Q^2 with degree 15\n",
    "  0.9327 Q^2 with degree 16\n",
    "  0.9326 Q^2 with degree 14\n",
    "  0.9319 Q^2 with degree 13\n",
    "  >>> top_polynomial_regressions(x, y, 20, 3)\n",
    "  the top 3 polynomial regressions are\n",
    "  0.9920 Q^2 with degree 7\n",
    "  0.9838 Q^2 with degree 8\n",
    "  0.9741 Q^2 with degree 9\n",
    "  >>> \n",
    "  \"\"\"\n",
    "  sorted_polynomial_regressions = lambda x,y, max_degree: sorted([(polynomial_regression(x,y,i)[0], i) for i in range(2, max_degree)], reverse = True)\n",
    "\n",
    "  print('the top %d polynomial regressions are' %top)\n",
    "  for regression in sorted_polynomial_regressions(x, y, max_degree)[:top]:\n",
    "    print('%.4f Q^2 with degree %d' %(regression[0], regression[1]))\n"
   ]
  },
  {
   "cell_type": "code",
   "execution_count": 25,
   "metadata": {},
   "outputs": [
    {
     "name": "stdout",
     "output_type": "stream",
     "text": [
      "the top 5 polynomial regressions are\n",
      "0.9920 Q^2 with degree 7\n",
      "0.9838 Q^2 with degree 8\n",
      "0.9741 Q^2 with degree 9\n",
      "0.9333 Q^2 with degree 18\n",
      "0.9332 Q^2 with degree 17\n"
     ]
    }
   ],
   "source": [
    "top_polynomial_regressions(x, y, 100, 5)"
   ]
  },
  {
   "cell_type": "code",
   "execution_count": 26,
   "metadata": {},
   "outputs": [
    {
     "name": "stdout",
     "output_type": "stream",
     "text": [
      "the top 10 polynomial regressions are\n",
      "0.9920 Q^2 with degree 7\n",
      "0.9838 Q^2 with degree 8\n",
      "0.9741 Q^2 with degree 9\n",
      "0.9333 Q^2 with degree 18\n",
      "0.9332 Q^2 with degree 17\n",
      "0.9330 Q^2 with degree 19\n",
      "0.9330 Q^2 with degree 15\n",
      "0.9327 Q^2 with degree 16\n",
      "0.9326 Q^2 with degree 14\n",
      "0.9325 Q^2 with degree 20\n"
     ]
    }
   ],
   "source": [
    "top_polynomial_regressions(x, y, 100)"
   ]
  },
  {
   "cell_type": "code",
   "execution_count": 27,
   "metadata": {},
   "outputs": [
    {
     "data": {
      "text/html": [
       "<table border=\"1\" class=\"dataframe\">\n",
       "    <thead>\n",
       "        <tr>\n",
       "            <th>Age</th> <th>Heart rate</th> <th>Linear Prediction</th> <th>Quadratic Prediction</th> <th>Cubic prediction</th>\n",
       "        </tr>\n",
       "    </thead>\n",
       "    <tbody>\n",
       "        <tr>\n",
       "            <td>16  </td> <td>180       </td> <td>173.763          </td> <td>174.221             </td> <td>173.286         </td>\n",
       "        </tr>\n",
       "        <tr>\n",
       "            <td>17  </td> <td>163       </td> <td>172.876          </td> <td>173.261             </td> <td>172.635         </td>\n",
       "        </tr>\n",
       "        <tr>\n",
       "            <td>23  </td> <td>172       </td> <td>167.555          </td> <td>167.568             </td> <td>168.123         </td>\n",
       "        </tr>\n",
       "        <tr>\n",
       "            <td>25  </td> <td>168       </td> <td>165.781          </td> <td>165.695             </td> <td>166.424         </td>\n",
       "        </tr>\n",
       "        <tr>\n",
       "            <td>28  </td> <td>165       </td> <td>163.12           </td> <td>162.908             </td> <td>163.732         </td>\n",
       "        </tr>\n",
       "        <tr>\n",
       "            <td>31  </td> <td>156       </td> <td>160.459          </td> <td>160.149             </td> <td>160.902         </td>\n",
       "        </tr>\n",
       "        <tr>\n",
       "            <td>40  </td> <td>153       </td> <td>152.477          </td> <td>152.039             </td> <td>151.967         </td>\n",
       "        </tr>\n",
       "        <tr>\n",
       "            <td>48  </td> <td>144       </td> <td>145.381          </td> <td>145.039             </td> <td>144.105         </td>\n",
       "        </tr>\n",
       "        <tr>\n",
       "            <td>54  </td> <td>139       </td> <td>140.06           </td> <td>139.918             </td> <td>138.716         </td>\n",
       "        </tr>\n",
       "        <tr>\n",
       "            <td>67  </td> <td>130       </td> <td>128.529          </td> <td>129.203             </td> <td>130.109         </td>\n",
       "        </tr>\n",
       "    </tbody>\n",
       "</table>"
      ],
      "text/plain": [
       "Age  | Heart rate | Linear Prediction | Quadratic Prediction | Cubic prediction\n",
       "16   | 180        | 173.763           | 174.221              | 173.286\n",
       "17   | 163        | 172.876           | 173.261              | 172.635\n",
       "23   | 172        | 167.555           | 167.568              | 168.123\n",
       "25   | 168        | 165.781           | 165.695              | 166.424\n",
       "28   | 165        | 163.12            | 162.908              | 163.732\n",
       "31   | 156        | 160.459           | 160.149              | 160.902\n",
       "40   | 153        | 152.477           | 152.039              | 151.967\n",
       "48   | 144        | 145.381           | 145.039              | 144.105\n",
       "54   | 139        | 140.06            | 139.918              | 138.716\n",
       "67   | 130        | 128.529           | 129.203              | 130.109"
      ]
     },
     "execution_count": 27,
     "metadata": {},
     "output_type": "execute_result"
    }
   ],
   "source": [
    "table"
   ]
  },
  {
   "cell_type": "code",
   "execution_count": 28,
   "metadata": {},
   "outputs": [
    {
     "name": "stdout",
     "output_type": "stream",
     "text": [
      "Help on function polynomial_regression in module __main__:\n",
      "\n",
      "polynomial_regression(x, y, degree_my=1)\n",
      "    Return R^2, coefficients and the interception\n",
      "    \n",
      "    polynomial_regression(x, y, degree_my = 1) -> (r_sq, coefficients, interception)\n",
      "    \n",
      "    Parameters\n",
      "    ----------\n",
      "    x: np.array, regressors\n",
      "    y: np.array, predictors\n",
      "    degree: int, optional, default 1, the degree of the model function\n",
      "    \n",
      "    Examples\n",
      "    --------\n",
      "    >>> x = np.array([16, 17, 23, 25, 28, 31, 40, 48, 54, 67]).reshape((-1, 1))\n",
      "    >>> y = np.array([180, 163, 172, 168, 165, 156, 153, 144, 139, 130])\n",
      "    \n",
      "    >>> x\n",
      "    array([[16],\n",
      "           [17],\n",
      "           [23],\n",
      "           [25],\n",
      "           [28],\n",
      "           [31],\n",
      "           [40],\n",
      "           [48],\n",
      "           [54],\n",
      "           [67]])\n",
      "    >>> y\n",
      "    array([180, 163, 172, 168, 165, 156, 153, 144, 139, 130])\n",
      "    >>> polynomial_regression(x, y)\n",
      "    (0.9141779810921304, array([-0.88693692]), 187.95409848808737)\n",
      "    >>> polynomial_regression(x, y, 2)\n",
      "    (0.9147602910606555, array([-1.01045344,  0.00153909]), 189.99421074646295)\n",
      "    >>> polynomial_regression(x, y, 5)\n",
      "    (0.9184131002053144, array([ 7.73620330e+00, -4.45581354e-01,  1.08361046e-02, -1.26584517e-04,\n",
      "            5.75609467e-07]), 126.4417938766303)\n",
      "    >>>\n",
      "\n"
     ]
    }
   ],
   "source": [
    "help(polynomial_regression)"
   ]
  },
  {
   "cell_type": "code",
   "execution_count": 29,
   "metadata": {},
   "outputs": [
    {
     "name": "stdout",
     "output_type": "stream",
     "text": [
      "R^2:  0.9919836302596928\n",
      "coefficients:  [-2.42845826e+03  2.20156310e+02 -1.06683101e+01  2.98918696e-01\n",
      " -4.85321170e-03  4.23650865e-05 -1.53677377e-07]\n",
      "intersection:  11201.430979730576\n"
     ]
    }
   ],
   "source": [
    "r_sq, coefficients, interception = polynomial_regression(x, y, 7)\n",
    "print('R^2: ', r_sq)\n",
    "print('coefficients: ', coefficients)\n",
    "print('intersection: ', interception)"
   ]
  },
  {
   "cell_type": "code",
   "execution_count": 30,
   "metadata": {},
   "outputs": [
    {
     "data": {
      "text/plain": [
       "<function __main__.<lambda>(age)>"
      ]
     },
     "execution_count": 30,
     "metadata": {},
     "output_type": "execute_result"
    }
   ],
   "source": [
    "prediction_function = \\\n",
    "  lambda age: sum( [coefficients[i] * age**(i + 1) for i in range(len(coefficients))] ) + interception\n",
    "prediction_function"
   ]
  },
  {
   "cell_type": "code",
   "execution_count": 31,
   "metadata": {},
   "outputs": [
    {
     "data": {
      "text/html": [
       "<table border=\"1\" class=\"dataframe\">\n",
       "    <thead>\n",
       "        <tr>\n",
       "            <th>Age</th> <th>Heart rate</th> <th>Linear Prediction</th> <th>Quadratic Prediction</th> <th>Cubic prediction</th> <th>7th degree Prediction</th>\n",
       "        </tr>\n",
       "    </thead>\n",
       "    <tbody>\n",
       "        <tr>\n",
       "            <td>16  </td> <td>180       </td> <td>173.763          </td> <td>174.221             </td> <td>173.286         </td> <td>179.206              </td>\n",
       "        </tr>\n",
       "        <tr>\n",
       "            <td>17  </td> <td>163       </td> <td>172.876          </td> <td>173.261             </td> <td>172.635         </td> <td>164.059              </td>\n",
       "        </tr>\n",
       "        <tr>\n",
       "            <td>23  </td> <td>172       </td> <td>167.555          </td> <td>167.568             </td> <td>168.123         </td> <td>169.331              </td>\n",
       "        </tr>\n",
       "        <tr>\n",
       "            <td>25  </td> <td>168       </td> <td>165.781          </td> <td>165.695             </td> <td>166.424         </td> <td>170.86               </td>\n",
       "        </tr>\n",
       "        <tr>\n",
       "            <td>28  </td> <td>165       </td> <td>163.12           </td> <td>162.908             </td> <td>163.732         </td> <td>164.781              </td>\n",
       "        </tr>\n",
       "        <tr>\n",
       "            <td>31  </td> <td>156       </td> <td>160.459          </td> <td>160.149             </td> <td>160.902         </td> <td>155.28               </td>\n",
       "        </tr>\n",
       "        <tr>\n",
       "            <td>40  </td> <td>153       </td> <td>152.477          </td> <td>152.039             </td> <td>151.967         </td> <td>153.229              </td>\n",
       "        </tr>\n",
       "        <tr>\n",
       "            <td>48  </td> <td>144       </td> <td>145.381          </td> <td>145.039             </td> <td>144.105         </td> <td>143.916              </td>\n",
       "        </tr>\n",
       "        <tr>\n",
       "            <td>54  </td> <td>139       </td> <td>140.06           </td> <td>139.918             </td> <td>138.716         </td> <td>139.102              </td>\n",
       "        </tr>\n",
       "        <tr>\n",
       "            <td>67  </td> <td>130       </td> <td>128.529          </td> <td>129.203             </td> <td>130.109         </td> <td>130.236              </td>\n",
       "        </tr>\n",
       "    </tbody>\n",
       "</table>"
      ],
      "text/plain": [
       "Age  | Heart rate | Linear Prediction | Quadratic Prediction | Cubic prediction | 7th degree Prediction\n",
       "16   | 180        | 173.763           | 174.221              | 173.286          | 179.206\n",
       "17   | 163        | 172.876           | 173.261              | 172.635          | 164.059\n",
       "23   | 172        | 167.555           | 167.568              | 168.123          | 169.331\n",
       "25   | 168        | 165.781           | 165.695              | 166.424          | 170.86\n",
       "28   | 165        | 163.12            | 162.908              | 163.732          | 164.781\n",
       "31   | 156        | 160.459           | 160.149              | 160.902          | 155.28\n",
       "40   | 153        | 152.477           | 152.039              | 151.967          | 153.229\n",
       "48   | 144        | 145.381           | 145.039              | 144.105          | 143.916\n",
       "54   | 139        | 140.06            | 139.918              | 138.716          | 139.102\n",
       "67   | 130        | 128.529           | 129.203              | 130.109          | 130.236"
      ]
     },
     "execution_count": 31,
     "metadata": {},
     "output_type": "execute_result"
    }
   ],
   "source": [
    "table = table.with_column(\n",
    "    '7th degree Prediction', prediction_function(table.column(0))\n",
    ")\n",
    "table"
   ]
  },
  {
   "cell_type": "code",
   "execution_count": 32,
   "metadata": {},
   "outputs": [
    {
     "data": {
      "image/png": "[encoded data removed]",
      "text/plain": [
       "<Figure size 360x360 with 1 Axes>"
      ]
     },
     "metadata": {},
     "output_type": "display_data"
    }
   ],
   "source": [
    "table.scatter(0)"
   ]
  }
 ],
 "metadata": {
  "kernelspec": {
   "display_name": "Python 3",
   "language": "python",
   "name": "python3"
  },
  "language_info": {
   "codemirror_mode": {
    "name": "ipython",
    "version": 3
   },
   "file_extension": ".py",
   "mimetype": "text/x-python",
   "name": "python",
   "nbconvert_exporter": "python",
   "pygments_lexer": "ipython3",
   "version": "3.7.3"
  }
 },
 "nbformat": 4,
 "nbformat_minor": 4
}
