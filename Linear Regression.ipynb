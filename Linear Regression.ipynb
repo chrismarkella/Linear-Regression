{
 "cells": [
  {
   "cell_type": "markdown",
   "metadata": {},
   "source": [
    "# Polynomial regression\n",
    "It needs the datascience package from Berkeley<br>\n",
    "https://github.com/data-8/datascience<br>\n",
    "Installation is 'pip install datascience'"
   ]
  },
  {
   "cell_type": "code",
   "execution_count": null,
   "metadata": {},
   "outputs": [],
   "source": [
    "\n",
    "#Please run this first\n",
    "import sys\n",
    "import numpy as np\n",
    "\n",
    "from datascience import *\n",
    "from sklearn.linear_model  import LinearRegression\n",
    "from sklearn.preprocessing import PolynomialFeatures\n",
    "\n",
    "%matplotlib inline\n",
    "import matplotlib.pyplot as plots\n",
    "plots.style.use('fivethirtyeight')"
   ]
  },
  {
   "cell_type": "code",
   "execution_count": null,
   "metadata": {},
   "outputs": [],
   "source": [
    "# Got the datapoints from\n",
    "# https://johnstonmd.wordpress.com/teaching/math-178-spring-2017/\n",
    "x = np.array([16, 17, 23, 25, 28, 31, 40, 48, 54, 67]).reshape((-1, 1))\n",
    "y = np.array([180, 163, 172, 168, 165, 156, 153, 144, 139, 130])\n",
    "print(x)\n",
    "print(y)"
   ]
  },
  {
   "cell_type": "markdown",
   "metadata": {},
   "source": [
    "### Numpy calculate regression with a two dimensional array x.\n",
    "### For our table we map the two dimensional array to a one dimentional array."
   ]
  },
  {
   "cell_type": "code",
   "execution_count": null,
   "metadata": {},
   "outputs": [],
   "source": [
    "x_one_dimensional = [_[0] for _ in x]\n",
    "x_one_dimensional"
   ]
  },
  {
   "cell_type": "code",
   "execution_count": null,
   "metadata": {},
   "outputs": [],
   "source": [
    "table = Table().with_columns(\n",
    "    'Age', x_one_dimensional,\n",
    "    'Heart rate', y\n",
    ")\n",
    "table"
   ]
  },
  {
   "cell_type": "code",
   "execution_count": null,
   "metadata": {},
   "outputs": [],
   "source": [
    "table.scatter('Age')"
   ]
  },
  {
   "cell_type": "code",
   "execution_count": null,
   "metadata": {},
   "outputs": [],
   "source": [
    "def polynomial_regression(x, y, degree_my = 1):\n",
    "  \"\"\"\n",
    "  Return R^2, coefficients and the interception\n",
    "  \n",
    "  polynomial_regression(x, y, degree_my = 1) -> (r_sq, coefficients, interception)\n",
    "\n",
    "  Parameters\n",
    "  ----------\n",
    "  x: np.array, regressors\n",
    "  y: np.array, predictors\n",
    "  degree: int, optional, default 1, the degree of the model function\n",
    "  \n",
    "  Examples\n",
    "  --------\n",
    "  >>> x = np.array([16, 17, 23, 25, 28, 31, 40, 48, 54, 67]).reshape((-1, 1))\n",
    "  >>> y = np.array([180, 163, 172, 168, 165, 156, 153, 144, 139, 130])\n",
    "\n",
    "  >>> x\n",
    "  array([[16],\n",
    "         [17],\n",
    "         [23],\n",
    "         [25],\n",
    "         [28],\n",
    "         [31],\n",
    "         [40],\n",
    "         [48],\n",
    "         [54],\n",
    "         [67]])\n",
    "  >>> y\n",
    "  array([180, 163, 172, 168, 165, 156, 153, 144, 139, 130])\n",
    "  >>> polynomial_regression(x, y)\n",
    "  (0.9141779810921304, array([-0.88693692]), 187.95409848808737)\n",
    "  >>> polynomial_regression(x, y, 2)\n",
    "  (0.9147602910606555, array([-1.01045344,  0.00153909]), 189.99421074646295)\n",
    "  >>> polynomial_regression(x, y, 5)\n",
    "  (0.9184131002053144, array([ 7.73620330e+00, -4.45581354e-01,  1.08361046e-02, -1.26584517e-04,\n",
    "          5.75609467e-07]), 126.4417938766303)\n",
    "  >>> \n",
    "  \"\"\"\n",
    "  transformer = PolynomialFeatures(degree = degree_my, include_bias = False)\n",
    "  transformer.fit(x)\n",
    "  x_ = transformer.transform(x)\n",
    "\n",
    "  model = LinearRegression().fit(x_, y)\n",
    "  \n",
    "  coefficient_of_determination = model.score(x_, y)\n",
    "  interception = model.intercept_\n",
    "  coefficients = model.coef_\n",
    "\n",
    "  return (coefficient_of_determination, coefficients, interception)\n",
    "\n",
    "def linear_regression(x, y):\n",
    "  \"\"\"\n",
    "  Returns R^2, slope and interception\n",
    "  \"\"\"\n",
    "  # Reusing the existing 'general' polynomial_regression function\n",
    "  return polynomial_regression(x, y, 1) \n",
    "\n",
    "linear_regression(x, y)"
   ]
  },
  {
   "cell_type": "code",
   "execution_count": null,
   "metadata": {},
   "outputs": [],
   "source": [
    "r_sq, coefficients, interception = linear_regression(x, y)\n",
    "print('R^2: ', r_sq)\n",
    "print('coefficients: ', coefficients)\n",
    "print('intersection: ', interception)"
   ]
  },
  {
   "cell_type": "code",
   "execution_count": null,
   "metadata": {},
   "outputs": [],
   "source": [
    "prediction_function = lambda age: coefficients[0] * age + interception\n",
    "print(prediction_function)\n",
    "age = 31\n",
    "print('your predicted HR is %d' % prediction_function(age))"
   ]
  },
  {
   "cell_type": "code",
   "execution_count": null,
   "metadata": {},
   "outputs": [],
   "source": [
    "prediction_array = prediction_function(table.column('Age'))\n",
    "prediction_array"
   ]
  },
  {
   "cell_type": "code",
   "execution_count": null,
   "metadata": {},
   "outputs": [],
   "source": [
    "# Shows only the first five elements in the array\n",
    "prediction_array[:5]"
   ]
  },
  {
   "cell_type": "code",
   "execution_count": null,
   "metadata": {},
   "outputs": [],
   "source": [
    "table = table.with_column(\n",
    "    'Linear Prediction', prediction_array\n",
    ")\n",
    "table"
   ]
  },
  {
   "cell_type": "code",
   "execution_count": null,
   "metadata": {},
   "outputs": [],
   "source": [
    "table.scatter(0)"
   ]
  },
  {
   "cell_type": "code",
   "execution_count": null,
   "metadata": {},
   "outputs": [],
   "source": [
    "slope = coefficients[0]\n",
    "print('slope: ', slope)\n",
    "\n",
    "print('The linear regression model is y = %.2f*x + %.2f' % (slope, interception))\n",
    "\n",
    "age = int(input('what is your age: '))\n",
    "print('your recomended HR is %d' % (prediction_function(age)))\n",
    "print('this is %.2f percent accurate' %( r_sq * 100) )"
   ]
  },
  {
   "cell_type": "code",
   "execution_count": null,
   "metadata": {},
   "outputs": [],
   "source": [
    "def quadratic_regression(x, y):\n",
    "  \"\"\"\n",
    "  Returning R^2, coefficients and the interceptions as a size three tupple.\n",
    "  \"\"\"\n",
    "  return polynomial_regression(x, y, 2)\n",
    "\n",
    "r_sq, coefficients, interception = quadratic_regression(x, y)\n",
    "print('R^2: ', r_sq)\n",
    "print('coefficients: ', coefficients)\n",
    "print('intersection: ', interception)"
   ]
  },
  {
   "cell_type": "code",
   "execution_count": null,
   "metadata": {},
   "outputs": [],
   "source": [
    "prediction_function = \\\n",
    "  lambda age: sum( [coefficients[i] * age**(i + 1) for i in range(len(coefficients))] ) + interception\n",
    "prediction_function"
   ]
  },
  {
   "cell_type": "code",
   "execution_count": null,
   "metadata": {},
   "outputs": [],
   "source": [
    "quadratic_prediction_array = prediction_function(table.column('Age'))\n",
    "quadratic_prediction_array"
   ]
  },
  {
   "cell_type": "code",
   "execution_count": null,
   "metadata": {},
   "outputs": [],
   "source": [
    "table = table.with_column(\n",
    "    'Quadratic Prediction', quadratic_prediction_array\n",
    ")\n",
    "table"
   ]
  },
  {
   "cell_type": "code",
   "execution_count": null,
   "metadata": {},
   "outputs": [],
   "source": [
    "table.scatter(0)"
   ]
  },
  {
   "cell_type": "code",
   "execution_count": null,
   "metadata": {},
   "outputs": [],
   "source": [
    "def cubic_regression(x, y):\n",
    "  \"\"\"\n",
    "  Returning R^2, coefficients and the interceptions as a size three tupple.\n",
    "  \"\"\"\n",
    "  return polynomial_regression(x, y, 3)"
   ]
  },
  {
   "cell_type": "code",
   "execution_count": null,
   "metadata": {},
   "outputs": [],
   "source": [
    "r_sq, coefficients, interception = cubic_regression(x, y)\n",
    "print('R^2: ', r_sq)\n",
    "print('coefficients: ', coefficients)\n",
    "print('intersection: ', interception)"
   ]
  },
  {
   "cell_type": "code",
   "execution_count": null,
   "metadata": {},
   "outputs": [],
   "source": [
    "prediction_function = \\\n",
    "  lambda age: sum( [coefficients[i] * age**(i + 1) for i in range(len(coefficients))] ) + interception\n",
    "prediction_function"
   ]
  },
  {
   "cell_type": "code",
   "execution_count": null,
   "metadata": {},
   "outputs": [],
   "source": [
    "table = table.with_column(\n",
    "    'Cubic prediction', prediction_function(table.column(0))\n",
    ")\n",
    "table"
   ]
  },
  {
   "cell_type": "code",
   "execution_count": null,
   "metadata": {},
   "outputs": [],
   "source": [
    "table.scatter(0)"
   ]
  },
  {
   "cell_type": "code",
   "execution_count": null,
   "metadata": {},
   "outputs": [],
   "source": [
    "def top_polynomial_regressions(x, y, max_degree, top = 10):\n",
    "  \"\"\"\n",
    "  Print out the best polynomial regressions with the highest Q^2 in a sorted list \n",
    "  \n",
    "  Parameters\n",
    "  ----------\n",
    "  x: np.array, regressors\n",
    "  y: np.array, predictors\n",
    "  max_degree: int, the degree of the model function\n",
    "  top: int, number of rows printed from the sorted regressions\n",
    "  \n",
    "\n",
    "  Examples\n",
    "  --------\n",
    "  >>> x = np.array([16, 17, 23, 25, 28, 31, 40, 48, 54, 67]).reshape((-1, 1))\n",
    "  >>> y = np.array([180, 163, 172, 168, 165, 156, 153, 144, 139, 130])\n",
    "  >>> x\n",
    "  array([[16],\n",
    "         [17],\n",
    "         [23],\n",
    "         [25],\n",
    "         [28],\n",
    "         [31],\n",
    "         [40],\n",
    "         [48],\n",
    "         [54],\n",
    "         [67]])\n",
    "  >>> y\n",
    "  array([180, 163, 172, 168, 165, 156, 153, 144, 139, 130])\n",
    "  >>> top_polynomial_regressions(x, y, 20)\n",
    "  the top 10 polynomial regressions are\n",
    "  0.9920 Q^2 with degree 7\n",
    "  0.9838 Q^2 with degree 8\n",
    "  0.9741 Q^2 with degree 9\n",
    "  0.9333 Q^2 with degree 18\n",
    "  0.9332 Q^2 with degree 17\n",
    "  0.9330 Q^2 with degree 19\n",
    "  0.9330 Q^2 with degree 15\n",
    "  0.9327 Q^2 with degree 16\n",
    "  0.9326 Q^2 with degree 14\n",
    "  0.9319 Q^2 with degree 13\n",
    "  >>> top_polynomial_regressions(x, y, 20, 3)\n",
    "  the top 3 polynomial regressions are\n",
    "  0.9920 Q^2 with degree 7\n",
    "  0.9838 Q^2 with degree 8\n",
    "  0.9741 Q^2 with degree 9\n",
    "  >>> \n",
    "  \"\"\"\n",
    "  sorted_polynomial_regressions = lambda x,y, max_degree: sorted([(polynomial_regression(x,y,i)[0], i) for i in range(2, max_degree)], reverse = True)\n",
    "\n",
    "  print('the top %d polynomial regressions are' %top)\n",
    "  for regression in sorted_polynomial_regressions(x, y, max_degree)[:top]:\n",
    "    print('%.4f Q^2 with degree %d' %(regression[0], regression[1]))\n"
   ]
  },
  {
   "cell_type": "code",
   "execution_count": null,
   "metadata": {},
   "outputs": [],
   "source": [
    "top_polynomial_regressions(x, y, 100, 5)"
   ]
  },
  {
   "cell_type": "code",
   "execution_count": null,
   "metadata": {},
   "outputs": [],
   "source": [
    "top_polynomial_regressions(x, y, 100)"
   ]
  },
  {
   "cell_type": "code",
   "execution_count": null,
   "metadata": {},
   "outputs": [],
   "source": [
    "table"
   ]
  },
  {
   "cell_type": "code",
   "execution_count": null,
   "metadata": {},
   "outputs": [],
   "source": [
    "help(polynomial_regression)"
   ]
  },
  {
   "cell_type": "code",
   "execution_count": null,
   "metadata": {},
   "outputs": [],
   "source": [
    "r_sq, coefficients, interception = polynomial_regression(x, y, 7)\n",
    "print('R^2: ', r_sq)\n",
    "print('coefficients: ', coefficients)\n",
    "print('intersection: ', interception)"
   ]
  },
  {
   "cell_type": "code",
   "execution_count": null,
   "metadata": {},
   "outputs": [],
   "source": [
    "prediction_function = \\\n",
    "  lambda age: sum( [coefficients[i] * age**(i + 1) for i in range(len(coefficients))] ) + interception\n",
    "prediction_function"
   ]
  },
  {
   "cell_type": "code",
   "execution_count": null,
   "metadata": {},
   "outputs": [],
   "source": [
    "table = table.with_column(\n",
    "    '7th degree Prediction', prediction_function(table.column(0))\n",
    ")\n",
    "table"
   ]
  },
  {
   "cell_type": "code",
   "execution_count": null,
   "metadata": {},
   "outputs": [],
   "source": [
    "table.scatter(0)"
   ]
  }
 ],
 "metadata": {
  "kernelspec": {
   "display_name": "Python 3",
   "language": "python",
   "name": "python3"
  },
  "language_info": {
   "codemirror_mode": {
    "name": "ipython",
    "version": 3
   },
   "file_extension": ".py",
   "mimetype": "text/x-python",
   "name": "python",
   "nbconvert_exporter": "python",
   "pygments_lexer": "ipython3",
   "version": "3.7.3"
  }
 },
 "nbformat": 4,
 "nbformat_minor": 4
}
